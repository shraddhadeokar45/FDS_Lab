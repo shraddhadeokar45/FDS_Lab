{
 "cells": [
  {
   "cell_type": "code",
   "execution_count": null,
   "id": "7dc8e956",
   "metadata": {},
   "outputs": [
    {
     "name": "stdout",
     "output_type": "stream",
     "text": [
      "2.3.1\n"
     ]
    }
   ],
   "source": [
    "import numpy as np #Import numpy library\n",
    "print(np.__version__) #Check Version"
   ]
  },
  {
   "cell_type": "code",
   "execution_count": null,
   "id": "41bd6388",
   "metadata": {},
   "outputs": [
    {
     "name": "stdout",
     "output_type": "stream",
     "text": [
      "[[1 2 3]\n",
      " [3 4 5]\n",
      " [3 6 5]\n",
      " [2 7 5]]\n",
      "(4, 3)\n",
      "int64\n",
      "[[1 3 3 2]\n",
      " [2 4 6 7]\n",
      " [3 5 5 5]]\n",
      "7\n",
      "[[1 2 3 3]\n",
      " [4 5 3 6]\n",
      " [5 2 7 5]]\n",
      "[[1 2 3]\n",
      " [2 4 5]\n",
      " [3 6 5]\n",
      " [3 7 5]]\n",
      "[[1 2 3]\n",
      " [3 4 5]\n",
      " [3 5 6]\n",
      " [2 5 7]]\n"
     ]
    }
   ],
   "source": [
    "import numpy as np\n",
    "arr=np.array([[1,2,3],[3,4,5],[3,6,5],[2,7,5]])\n",
    "print(arr)\n",
    "print(arr.shape)\n",
    "print(arr.dtype)"
   ]
  },
  {
   "cell_type": "code",
   "execution_count": 13,
   "id": "b3c55fb9",
   "metadata": {},
   "outputs": [
    {
     "name": "stdout",
     "output_type": "stream",
     "text": [
      "[[1 2 3]\n",
      " [2 4 5]\n",
      " [3 6 5]\n",
      " [3 7 5]]\n",
      "[[1 2 3]\n",
      " [3 4 5]\n",
      " [3 5 6]\n",
      " [2 5 7]]\n"
     ]
    }
   ],
   "source": [
    "print(np.sort(arr,axis=0))\n",
    "print(np.sort(arr,axis=1))"
   ]
  },
  {
   "cell_type": "code",
   "execution_count": 12,
   "id": "4ed002c1",
   "metadata": {},
   "outputs": [
    {
     "name": "stdout",
     "output_type": "stream",
     "text": [
      "[[1 2 3 3]\n",
      " [4 5 3 6]\n",
      " [5 2 7 5]]\n"
     ]
    }
   ],
   "source": [
    "print(arr.reshape(3,4))\n"
   ]
  },
  {
   "cell_type": "code",
   "execution_count": 11,
   "id": "9d457ca9",
   "metadata": {},
   "outputs": [
    {
     "name": "stdout",
     "output_type": "stream",
     "text": [
      "7\n"
     ]
    }
   ],
   "source": [
    "print(arr.max())\n"
   ]
  },
  {
   "cell_type": "code",
   "execution_count": 10,
   "id": "c7218754",
   "metadata": {},
   "outputs": [
    {
     "name": "stdout",
     "output_type": "stream",
     "text": [
      "[[1 3 3 2]\n",
      " [2 4 6 7]\n",
      " [3 5 5 5]]\n"
     ]
    }
   ],
   "source": [
    "print(arr.swapaxes(0,1))\n"
   ]
  },
  {
   "cell_type": "code",
   "execution_count": 14,
   "id": "dd96c89d",
   "metadata": {},
   "outputs": [
    {
     "name": "stdout",
     "output_type": "stream",
     "text": [
      "[[0 0 0 0]\n",
      " [0 0 0 0]\n",
      " [0 0 0 0]]\n",
      "(3, 4)\n",
      "int64\n"
     ]
    }
   ],
   "source": [
    "arr1=np.zeros((3,4),dtype=\"int\")\n",
    "print(arr1)\n",
    "print(arr1.shape)\n",
    "print(arr1.dtype)\n"
   ]
  },
  {
   "cell_type": "code",
   "execution_count": 8,
   "id": "d5e8e3bf",
   "metadata": {},
   "outputs": [
    {
     "name": "stdout",
     "output_type": "stream",
     "text": [
      "[0. 0. 0. 0. 0.]\n"
     ]
    },
    {
     "data": {
      "text/plain": [
       "array([0, 0, 0, 0, 0], dtype=int32)"
      ]
     },
     "execution_count": 8,
     "metadata": {},
     "output_type": "execute_result"
    }
   ],
   "source": [
    "import numpy as np\n",
    "zero_arr=np.zeros(5)\n",
    "print(zero_arr)\n",
    "zero_arr.dtype\n",
    "zero_arr.astype(np.int32)"
   ]
  },
  {
   "cell_type": "code",
   "execution_count": 9,
   "id": "6c40d1d8",
   "metadata": {},
   "outputs": [
    {
     "data": {
      "text/plain": [
       "array([[[1.        , 2.        , 3.        ],\n",
       "        [3.        , 4.        , 5.        ],\n",
       "        [3.        , 6.        , 5.        ],\n",
       "        [2.        , 7.        , 5.        ]],\n",
       "\n",
       "       [[1.        , 1.88888889, 2.77777778],\n",
       "        [2.77777778, 3.66666667, 4.55555556],\n",
       "        [2.77777778, 5.44444444, 4.55555556],\n",
       "        [1.88888889, 6.33333333, 4.55555556]],\n",
       "\n",
       "       [[1.        , 1.77777778, 2.55555556],\n",
       "        [2.55555556, 3.33333333, 4.11111111],\n",
       "        [2.55555556, 4.88888889, 4.11111111],\n",
       "        [1.77777778, 5.66666667, 4.11111111]],\n",
       "\n",
       "       [[1.        , 1.66666667, 2.33333333],\n",
       "        [2.33333333, 3.        , 3.66666667],\n",
       "        [2.33333333, 4.33333333, 3.66666667],\n",
       "        [1.66666667, 5.        , 3.66666667]],\n",
       "\n",
       "       [[1.        , 1.55555556, 2.11111111],\n",
       "        [2.11111111, 2.66666667, 3.22222222],\n",
       "        [2.11111111, 3.77777778, 3.22222222],\n",
       "        [1.55555556, 4.33333333, 3.22222222]],\n",
       "\n",
       "       [[1.        , 1.44444444, 1.88888889],\n",
       "        [1.88888889, 2.33333333, 2.77777778],\n",
       "        [1.88888889, 3.22222222, 2.77777778],\n",
       "        [1.44444444, 3.66666667, 2.77777778]],\n",
       "\n",
       "       [[1.        , 1.33333333, 1.66666667],\n",
       "        [1.66666667, 2.        , 2.33333333],\n",
       "        [1.66666667, 2.66666667, 2.33333333],\n",
       "        [1.33333333, 3.        , 2.33333333]],\n",
       "\n",
       "       [[1.        , 1.22222222, 1.44444444],\n",
       "        [1.44444444, 1.66666667, 1.88888889],\n",
       "        [1.44444444, 2.11111111, 1.88888889],\n",
       "        [1.22222222, 2.33333333, 1.88888889]],\n",
       "\n",
       "       [[1.        , 1.11111111, 1.22222222],\n",
       "        [1.22222222, 1.33333333, 1.44444444],\n",
       "        [1.22222222, 1.55555556, 1.44444444],\n",
       "        [1.11111111, 1.66666667, 1.44444444]],\n",
       "\n",
       "       [[1.        , 1.        , 1.        ],\n",
       "        [1.        , 1.        , 1.        ],\n",
       "        [1.        , 1.        , 1.        ],\n",
       "        [1.        , 1.        , 1.        ]]])"
      ]
     },
     "execution_count": 9,
     "metadata": {},
     "output_type": "execute_result"
    }
   ],
   "source": [
    "np.linspace(arr,1,10)"
   ]
  },
  {
   "cell_type": "code",
   "execution_count": 20,
   "id": "c8f9db36",
   "metadata": {},
   "outputs": [
    {
     "name": "stdout",
     "output_type": "stream",
     "text": [
      "[[0. 0. 0. 0.]\n",
      " [0. 0. 0. 0.]\n",
      " [0. 0. 0. 0.]]\n",
      "[[0 0 0 0]\n",
      " [0 0 0 0]\n",
      " [0 0 0 0]]\n"
     ]
    }
   ],
   "source": [
    "arr=np.zeros((3,4))\n",
    "print(arr)\n",
    "arr1=np.zeros((3,4),dtype=\"int\")\n",
    "print(arr1)"
   ]
  },
  {
   "cell_type": "code",
   "execution_count": 21,
   "id": "8e52a30e",
   "metadata": {},
   "outputs": [
    {
     "name": "stdout",
     "output_type": "stream",
     "text": [
      "[[1. 1. 1. 1.]\n",
      " [1. 1. 1. 1.]\n",
      " [1. 1. 1. 1.]]\n",
      "[[1 1 1 1]\n",
      " [1 1 1 1]\n",
      " [1 1 1 1]]\n"
     ]
    }
   ],
   "source": [
    "arr=np.ones((3,4))\n",
    "print(arr)\n",
    "arr1=np.ones((3,4),dtype=\"int\")\n",
    "print(arr1)"
   ]
  }
 ],
 "metadata": {
  "kernelspec": {
   "display_name": "Python 3",
   "language": "python",
   "name": "python3"
  },
  "language_info": {
   "codemirror_mode": {
    "name": "ipython",
    "version": 3
   },
   "file_extension": ".py",
   "mimetype": "text/x-python",
   "name": "python",
   "nbconvert_exporter": "python",
   "pygments_lexer": "ipython3",
   "version": "3.12.6"
  }
 },
 "nbformat": 4,
 "nbformat_minor": 5
}
