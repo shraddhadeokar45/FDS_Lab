{
 "cells": [
  {
   "cell_type": "code",
   "execution_count": 6,
   "id": "64ca2146",
   "metadata": {},
   "outputs": [],
   "source": [
    "import numpy as np "
   ]
  },
  {
   "cell_type": "code",
   "execution_count": 7,
   "id": "3ac5c9ce",
   "metadata": {},
   "outputs": [
    {
     "name": "stdout",
     "output_type": "stream",
     "text": [
      "[1 2 3 4 5 6 7 8 9]\n",
      "1\n",
      "int64\n",
      "9\n"
     ]
    }
   ],
   "source": [
    "arr1=np.array([1,2,3,4,5,6,7,8,9]) #creating 1 dimensional array\n",
    "print(arr1)\n",
    "print(arr1.ndim) #prints dimension of array. Here array is 1 dimensional\n",
    "print(arr1.dtype) #prints datatype of array\n",
    "print(arr1.size) #prints no. of elements in array"
   ]
  },
  {
   "cell_type": "code",
   "execution_count": 8,
   "id": "64792e9c",
   "metadata": {},
   "outputs": [
    {
     "name": "stdout",
     "output_type": "stream",
     "text": [
      "[[1. 2. 3.]\n",
      " [5. 6. 7.]]\n",
      "2\n",
      "float64\n",
      "6\n",
      "(2, 3)\n"
     ]
    }
   ],
   "source": [
    "arr2=np.array([[1.,2.,3.],[5.,6.,7.]]) # creating array 2 dimensional array\n",
    "print(arr2)\n",
    "print(arr2.ndim) # Here array is 2 dimensional\n",
    "print(arr2.dtype) \n",
    "print(arr2.size)\n",
    "print(arr2.shape) #prints (no. of rows,no. of columns) in an array"
   ]
  },
  {
   "cell_type": "code",
   "execution_count": 9,
   "id": "2eb3bd0c",
   "metadata": {},
   "outputs": [
    {
     "name": "stdout",
     "output_type": "stream",
     "text": [
      "[[[ 1  2  3]\n",
      "  [ 4  5  6]]\n",
      "\n",
      " [[ 7  8  9]\n",
      "  [10 22 55]]]\n",
      "3\n",
      "int64\n",
      "12\n",
      "(2, 2, 3)\n"
     ]
    }
   ],
   "source": [
    "arr3=np.array([[[1,2,3],[4,5,6]],[[7,8,9],[10,22,55]]]) #creating 3 dimensional array\n",
    "print(arr3)\n",
    "print(arr3.ndim) # Here array is 3 dimensional\n",
    "print(arr3.dtype)\n",
    "print(arr3.size)\n",
    "print(arr3.shape)"
   ]
  },
  {
   "cell_type": "code",
   "execution_count": 10,
   "id": "3de05b09",
   "metadata": {},
   "outputs": [
    {
     "name": "stdout",
     "output_type": "stream",
     "text": [
      "[ 12  24  36  48  60  72  84  96 108 120 132 144]\n",
      "24\n",
      "132\n"
     ]
    }
   ],
   "source": [
    "arr4=np.array([12,24,36,48,60,72,84,96,108,120,132,144]) # creating array\n",
    "print(arr4)\n",
    "print(arr4[1]) #prints element of an array at index positiion 1 i.e from starting. Indexing starts from 0\n",
    "print(arr4[-2]) #prints element of an array at index positiion -2 i.e from backwards. Indexing starts from -1"
   ]
  },
  {
   "cell_type": "code",
   "execution_count": 11,
   "id": "b7ff2972",
   "metadata": {},
   "outputs": [
    {
     "name": "stdout",
     "output_type": "stream",
     "text": [
      "[ 2  3  4  5  6  7  8  9 10]\n"
     ]
    }
   ],
   "source": [
    "store=np.arange(2,11) #arranges the array from 2 to n-1 i.e 10\n",
    "print(store)"
   ]
  },
  {
   "cell_type": "code",
   "execution_count": 12,
   "id": "23664af9",
   "metadata": {},
   "outputs": [
    {
     "name": "stdout",
     "output_type": "stream",
     "text": [
      "[[ 12  24  36]\n",
      " [ 48  60  72]\n",
      " [ 84  96 108]\n",
      " [120 132 144]]\n"
     ]
    }
   ],
   "source": [
    "temp=arr4.reshape(4,3) # reshaping the array4 in 4 rows and 3 columns with its existing elements\n",
    "print(temp)"
   ]
  },
  {
   "cell_type": "code",
   "execution_count": 13,
   "id": "96247421",
   "metadata": {},
   "outputs": [
    {
     "name": "stdout",
     "output_type": "stream",
     "text": [
      "Addition :  [40 40 40]\n",
      "Subtraction :  [-20   0  20]\n",
      "Multiplication :  [300 400 300]\n",
      "Division :  [0.33333333 1.         3.        ]\n",
      "Power :  [ 5076944270305263616 -2101438300051996672      590490000000000]\n"
     ]
    }
   ],
   "source": [
    "x=np.array([10,20,30])\n",
    "y=np.array([30,20,10])\n",
    "print(\"Addition : \",x+y) # Add two arrays\n",
    "print(\"Subtraction : \",x-y) # Subtract two arrays\n",
    "print(\"Multiplication : \",x*y) # Multiply two arrays\n",
    "print(\"Division : \",x/y) # Divide two arrays\n",
    "print(\"Power : \",x**y) # Power of x raised to y"
   ]
  },
  {
   "cell_type": "code",
   "execution_count": 14,
   "id": "afcdd533",
   "metadata": {},
   "outputs": [
    {
     "name": "stdout",
     "output_type": "stream",
     "text": [
      "[1 2 3 4 5 6 7 8 9]\n",
      "9\n",
      "1\n",
      "8\n",
      "0\n"
     ]
    }
   ],
   "source": [
    "print(arr1)\n",
    "print(arr1.max()) # prints max element in an array\n",
    "print(arr1.min()) # prints min element in an array\n",
    "print(np.argmax(arr1)) # prints index of max element in an array\n",
    "print(np.argmin(arr1)) # prints index of min element in an array"
   ]
  },
  {
   "cell_type": "code",
   "execution_count": 15,
   "id": "62f980ff",
   "metadata": {},
   "outputs": [
    {
     "name": "stdout",
     "output_type": "stream",
     "text": [
      "\u001b[31mType:\u001b[39m        ndarray\n",
      "\u001b[31mString form:\u001b[39m [ 12  24  36  48  60  72  84  96 108 120 132 144]\n",
      "\u001b[31mLength:\u001b[39m      12\n",
      "\u001b[31mFile:\u001b[39m        c:\\users\\shrad\\appdata\\roaming\\python\\python312\\site-packages\\numpy\\__init__.py\n",
      "\u001b[31mDocstring:\u001b[39m  \n",
      "ndarray(shape, dtype=float, buffer=None, offset=0,\n",
      "        strides=None, order=None)\n",
      "\n",
      "An array object represents a multidimensional, homogeneous array\n",
      "of fixed-size items.  An associated data-type object describes the\n",
      "format of each element in the array (its byte-order, how many bytes it\n",
      "occupies in memory, whether it is an integer, a floating point number,\n",
      "or something else, etc.)\n",
      "\n",
      "Arrays should be constructed using `array`, `zeros` or `empty` (refer\n",
      "to the See Also section below).  The parameters given here refer to\n",
      "a low-level method (`ndarray(...)`) for instantiating an array.\n",
      "\n",
      "For more information, refer to the `numpy` module and examine the\n",
      "methods and attributes of an array.\n",
      "\n",
      "Parameters\n",
      "----------\n",
      "(for the __new__ method; see Notes below)\n",
      "\n",
      "shape : tuple of ints\n",
      "    Shape of created array.\n",
      "dtype : data-type, optional\n",
      "    Any object that can be interpreted as a numpy data type.\n",
      "buffer : object exposing buffer interface, optional\n",
      "    Used to fill the array with data.\n",
      "offset : int, optional\n",
      "    Offset of array data in buffer.\n",
      "strides : tuple of ints, optional\n",
      "    Strides of data in memory.\n",
      "order : {'C', 'F'}, optional\n",
      "    Row-major (C-style) or column-major (Fortran-style) order.\n",
      "\n",
      "Attributes\n",
      "----------\n",
      "T : ndarray\n",
      "    Transpose of the array.\n",
      "data : buffer\n",
      "    The array's elements, in memory.\n",
      "dtype : dtype object\n",
      "    Describes the format of the elements in the array.\n",
      "flags : dict\n",
      "    Dictionary containing information related to memory use, e.g.,\n",
      "    'C_CONTIGUOUS', 'OWNDATA', 'WRITEABLE', etc.\n",
      "flat : numpy.flatiter object\n",
      "    Flattened version of the array as an iterator.  The iterator\n",
      "    allows assignments, e.g., ``x.flat = 3`` (See `ndarray.flat` for\n",
      "    assignment examples; TODO).\n",
      "imag : ndarray\n",
      "    Imaginary part of the array.\n",
      "real : ndarray\n",
      "    Real part of the array.\n",
      "size : int\n",
      "    Number of elements in the array.\n",
      "itemsize : int\n",
      "    The memory use of each array element in bytes.\n",
      "nbytes : int\n",
      "    The total number of bytes required to store the array data,\n",
      "    i.e., ``itemsize * size``.\n",
      "ndim : int\n",
      "    The array's number of dimensions.\n",
      "shape : tuple of ints\n",
      "    Shape of the array.\n",
      "strides : tuple of ints\n",
      "    The step-size required to move from one element to the next in\n",
      "    memory. For example, a contiguous ``(3, 4)`` array of type\n",
      "    ``int16`` in C-order has strides ``(8, 2)``.  This implies that\n",
      "    to move from element to element in memory requires jumps of 2 bytes.\n",
      "    To move from row-to-row, one needs to jump 8 bytes at a time\n",
      "    (``2 * 4``).\n",
      "ctypes : ctypes object\n",
      "    Class containing properties of the array needed for interaction\n",
      "    with ctypes.\n",
      "base : ndarray\n",
      "    If the array is a view into another array, that array is its `base`\n",
      "    (unless that array is also a view).  The `base` array is where the\n",
      "    array data is actually stored.\n",
      "\n",
      "See Also\n",
      "--------\n",
      "array : Construct an array.\n",
      "zeros : Create an array, each element of which is zero.\n",
      "empty : Create an array, but leave its allocated memory unchanged (i.e.,\n",
      "        it contains \"garbage\").\n",
      "dtype : Create a data-type.\n",
      "numpy.typing.NDArray : An ndarray alias :term:`generic <generic type>`\n",
      "                       w.r.t. its `dtype.type <numpy.dtype.type>`.\n",
      "\n",
      "Notes\n",
      "-----\n",
      "There are two modes of creating an array using ``__new__``:\n",
      "\n",
      "1. If `buffer` is None, then only `shape`, `dtype`, and `order`\n",
      "   are used.\n",
      "2. If `buffer` is an object exposing the buffer interface, then\n",
      "   all keywords are interpreted.\n",
      "\n",
      "No ``__init__`` method is needed because the array is fully initialized\n",
      "after the ``__new__`` method.\n",
      "\n",
      "Examples\n",
      "--------\n",
      "These examples illustrate the low-level `ndarray` constructor.  Refer\n",
      "to the `See Also` section above for easier ways of constructing an\n",
      "ndarray.\n",
      "\n",
      "First mode, `buffer` is None:\n",
      "\n",
      ">>> import numpy as np\n",
      ">>> np.ndarray(shape=(2,2), dtype=float, order='F')\n",
      "array([[0.0e+000, 0.0e+000], # random\n",
      "       [     nan, 2.5e-323]])\n",
      "\n",
      "Second mode:\n",
      "\n",
      ">>> np.ndarray((2,), buffer=np.array([1,2,3]),\n",
      "...            offset=np.int_().itemsize,\n",
      "...            dtype=int) # offset = 1*itemsize, i.e. skip first element\n",
      "array([2, 3])"
     ]
    }
   ],
   "source": [
    "?arr4"
   ]
  },
  {
   "cell_type": "code",
   "execution_count": null,
   "id": "02234eaa",
   "metadata": {},
   "outputs": [
    {
     "name": "stdout",
     "output_type": "stream",
     "text": [
      "[1 2 3 4 5 6 7 8 9]\n",
      "[1 1 1 1 1 1 1 1]\n"
     ]
    }
   ],
   "source": [
    "print(arr1)\n",
    "print(np.diff(arr1)) # prints the diffference between two consecutive elements in an array. Here difference is 1 because each element in the array appears serially"
   ]
  },
  {
   "cell_type": "code",
   "execution_count": null,
   "id": "5b61b3a4",
   "metadata": {},
   "outputs": [
    {
     "data": {
      "text/plain": [
       "array([ 8.        , 13.28571429, 18.57142857, 23.85714286, 29.14285714,\n",
       "       34.42857143, 39.71428571, 45.        ])"
      ]
     },
     "execution_count": 21,
     "metadata": {},
     "output_type": "execute_result"
    }
   ],
   "source": [
    "np.linspace(8,45,num=8) # prints the values assigned to num in the specified range. Here specified range is 8 to 45"
   ]
  }
 ],
 "metadata": {
  "kernelspec": {
   "display_name": "Python 3",
   "language": "python",
   "name": "python3"
  },
  "language_info": {
   "codemirror_mode": {
    "name": "ipython",
    "version": 3
   },
   "file_extension": ".py",
   "mimetype": "text/x-python",
   "name": "python",
   "nbconvert_exporter": "python",
   "pygments_lexer": "ipython3",
   "version": "3.12.6"
  }
 },
 "nbformat": 4,
 "nbformat_minor": 5
}
