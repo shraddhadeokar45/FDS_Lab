{
 "cells": [
  {
   "cell_type": "code",
   "execution_count": 54,
   "id": "4aaaf229",
   "metadata": {},
   "outputs": [],
   "source": [
    "import pandas as pd #import pandas library"
   ]
  },
  {
   "cell_type": "code",
   "execution_count": null,
   "id": "4516666d",
   "metadata": {},
   "outputs": [
    {
     "name": "stdout",
     "output_type": "stream",
     "text": [
      "Pandas Series\n",
      "a     2\n",
      "b     4\n",
      "c     6\n",
      "d     8\n",
      "e    10\n",
      "dtype: int64\n",
      "\n",
      "Access Single Value 10\n"
     ]
    }
   ],
   "source": [
    "s=pd.Series([2,4,6,8,10], index=['a','b','c','d','e']) # Creating Panda Series\n",
    "print(\"Pandas Series\")\n",
    "print(s)\n",
    "print(\"\\nAccess Single Value\",s['e'])\n"
   ]
  },
  {
   "cell_type": "code",
   "execution_count": 3,
   "id": "f36bcd9c",
   "metadata": {},
   "outputs": [
    {
     "data": {
      "text/plain": [
       "pandas.core.series.Series"
      ]
     },
     "execution_count": 3,
     "metadata": {},
     "output_type": "execute_result"
    }
   ],
   "source": [
    "type(s)"
   ]
  },
  {
   "cell_type": "code",
   "execution_count": null,
   "id": "371f071d",
   "metadata": {},
   "outputs": [
    {
     "name": "stdout",
     "output_type": "stream",
     "text": [
      "Pandas Dataframe\n",
      "       Name  Age  Interest\n",
      "0  Shraddha   21   Cricket\n",
      "1     Rohit   38    Tennis\n",
      "2   Shreyas   30  Football\n",
      "\n",
      "Access Single Column (as series) : \n",
      "0    21\n",
      "1    38\n",
      "2    30\n",
      "Name: Age, dtype: int64\n"
     ]
    }
   ],
   "source": [
    "#Creating a DataFrame\n",
    "data={\n",
    "    'Name':['Shraddha','Rohit','Shreyas'],\n",
    "    'Age':[21,38,30],\n",
    "    'Interest':['Cricket','Tennis','Football']\n",
    "}\n",
    "\n",
    "df=pd.DataFrame(data)\n",
    "\n",
    "print(\"Pandas Dataframe\")\n",
    "print(df)\n",
    "print(\"\\nAccess Single Column (as series) : \")\n",
    "print(df['Age'])"
   ]
  },
  {
   "cell_type": "code",
   "execution_count": 6,
   "id": "2e5871d6",
   "metadata": {},
   "outputs": [
    {
     "data": {
      "text/plain": [
       "pandas.core.frame.DataFrame"
      ]
     },
     "execution_count": 6,
     "metadata": {},
     "output_type": "execute_result"
    }
   ],
   "source": [
    "type(df)"
   ]
  },
  {
   "cell_type": "code",
   "execution_count": 24,
   "id": "18a19d98",
   "metadata": {},
   "outputs": [
    {
     "name": "stderr",
     "output_type": "stream",
     "text": [
      "C:\\Users\\shrad\\AppData\\Local\\Temp\\ipykernel_13964\\2440189443.py:1: DtypeWarning: Columns (0,1,2,3,4,5,6,7,8,9,10,11,12,15) have mixed types. Specify dtype option on import or set low_memory=False.\n",
      "  df=pd.read_csv(\"Tokyo_Olympics.csv\") #load csv file\n"
     ]
    }
   ],
   "source": [
    "df=pd.read_csv(\"Tokyo_Olympics.csv\") #load csv file"
   ]
  },
  {
   "cell_type": "code",
   "execution_count": null,
   "id": "a42cd935",
   "metadata": {},
   "outputs": [
    {
     "name": "stdout",
     "output_type": "stream",
     "text": [
      "Original : \n",
      " 0    10\n",
      "1    20\n",
      "2    30\n",
      "3    40\n",
      "4    50\n",
      "dtype: int64\n",
      "\n",
      "Multiply by 4 : \n",
      " 0     40\n",
      "1     80\n",
      "2    120\n",
      "3    160\n",
      "4    200\n",
      "dtype: int64\n"
     ]
    }
   ],
   "source": [
    "s=pd.Series([10,20,30,40,50]) # Performing Arithmetic Operation\n",
    "print(\"Original : \\n\",s)\n",
    "print(\"\\nMultiply by 4 : \\n\",s*4)"
   ]
  },
  {
   "cell_type": "code",
   "execution_count": 20,
   "id": "8495767e",
   "metadata": {},
   "outputs": [
    {
     "data": {
      "text/html": [
       "<div>\n",
       "<style scoped>\n",
       "    .dataframe tbody tr th:only-of-type {\n",
       "        vertical-align: middle;\n",
       "    }\n",
       "\n",
       "    .dataframe tbody tr th {\n",
       "        vertical-align: top;\n",
       "    }\n",
       "\n",
       "    .dataframe thead th {\n",
       "        text-align: right;\n",
       "    }\n",
       "</style>\n",
       "<table border=\"1\" class=\"dataframe\">\n",
       "  <thead>\n",
       "    <tr style=\"text-align: right;\">\n",
       "      <th></th>\n",
       "      <th>Name</th>\n",
       "      <th>Age</th>\n",
       "      <th>Interest</th>\n",
       "    </tr>\n",
       "  </thead>\n",
       "  <tbody>\n",
       "    <tr>\n",
       "      <th>1</th>\n",
       "      <td>Rohit</td>\n",
       "      <td>38</td>\n",
       "      <td>Tennis</td>\n",
       "    </tr>\n",
       "    <tr>\n",
       "      <th>2</th>\n",
       "      <td>Shreyas</td>\n",
       "      <td>30</td>\n",
       "      <td>Football</td>\n",
       "    </tr>\n",
       "  </tbody>\n",
       "</table>\n",
       "</div>"
      ],
      "text/plain": [
       "      Name  Age  Interest\n",
       "1    Rohit   38    Tennis\n",
       "2  Shreyas   30  Football"
      ]
     },
     "execution_count": 20,
     "metadata": {},
     "output_type": "execute_result"
    }
   ],
   "source": [
    "df['Name']                # Select Single Column\n",
    "df[['Name','Interest']]   # Select Multiple Column\n",
    "df.iloc[0]                # First row by index\n",
    "df.iloc[1:4]              # Rows by index range\n",
    "df.loc[df['Age']>25]      # Filter condition"
   ]
  },
  {
   "cell_type": "code",
   "execution_count": null,
   "id": "299a8250",
   "metadata": {},
   "outputs": [
    {
     "data": {
      "text/html": [
       "<div>\n",
       "<style scoped>\n",
       "    .dataframe tbody tr th:only-of-type {\n",
       "        vertical-align: middle;\n",
       "    }\n",
       "\n",
       "    .dataframe tbody tr th {\n",
       "        vertical-align: top;\n",
       "    }\n",
       "\n",
       "    .dataframe thead th {\n",
       "        text-align: right;\n",
       "    }\n",
       "</style>\n",
       "<table border=\"1\" class=\"dataframe\">\n",
       "  <thead>\n",
       "    <tr style=\"text-align: right;\">\n",
       "      <th></th>\n",
       "      <th>id</th>\n",
       "      <th>user_name</th>\n",
       "      <th>user_location</th>\n",
       "      <th>user_description</th>\n",
       "      <th>user_created</th>\n",
       "      <th>user_followers</th>\n",
       "      <th>user_friends</th>\n",
       "      <th>user_favourites</th>\n",
       "      <th>user_verified</th>\n",
       "      <th>date</th>\n",
       "      <th>text</th>\n",
       "      <th>hashtags</th>\n",
       "      <th>source</th>\n",
       "      <th>retweets</th>\n",
       "      <th>favorites</th>\n",
       "      <th>is_retweet</th>\n",
       "    </tr>\n",
       "  </thead>\n",
       "  <tbody>\n",
       "    <tr>\n",
       "      <th>0</th>\n",
       "      <td>1418888645105356803</td>\n",
       "      <td>Abhishek Srivastav</td>\n",
       "      <td>Udupi, India</td>\n",
       "      <td>Trying to be mediocre in many things</td>\n",
       "      <td>2021-02-01 06:33:51</td>\n",
       "      <td>45.0</td>\n",
       "      <td>39.0</td>\n",
       "      <td>293.0</td>\n",
       "      <td>False</td>\n",
       "      <td>2021-07-24 10:59:49</td>\n",
       "      <td>Let the party begin\\n#Tokyo2020</td>\n",
       "      <td>['Tokyo2020']</td>\n",
       "      <td>Twitter for Android</td>\n",
       "      <td>0.0</td>\n",
       "      <td>0.0</td>\n",
       "      <td>False</td>\n",
       "    </tr>\n",
       "    <tr>\n",
       "      <th>1</th>\n",
       "      <td>1418888377680678918</td>\n",
       "      <td>Saikhom Mirabai Channu🇮🇳</td>\n",
       "      <td>Manipur, India</td>\n",
       "      <td>Indian weightlifter 48 kg category. Champion🏆</td>\n",
       "      <td>2018-04-07 10:10:22</td>\n",
       "      <td>5235.0</td>\n",
       "      <td>5.0</td>\n",
       "      <td>2969.0</td>\n",
       "      <td>False</td>\n",
       "      <td>2021-07-24 10:58:45</td>\n",
       "      <td>Congratulations #Tokyo2020 https://t.co/8OFKMs...</td>\n",
       "      <td>['Tokyo2020']</td>\n",
       "      <td>Twitter for Android</td>\n",
       "      <td>0.0</td>\n",
       "      <td>0.0</td>\n",
       "      <td>False</td>\n",
       "    </tr>\n",
       "    <tr>\n",
       "      <th>2</th>\n",
       "      <td>1418888260886073345</td>\n",
       "      <td>Big Breaking</td>\n",
       "      <td>Global</td>\n",
       "      <td>All breaking news related to Financial Market....</td>\n",
       "      <td>2021-05-29 08:51:25</td>\n",
       "      <td>3646.0</td>\n",
       "      <td>3.0</td>\n",
       "      <td>5.0</td>\n",
       "      <td>False</td>\n",
       "      <td>2021-07-24 10:58:17</td>\n",
       "      <td>Big Breaking Now \\n\\nTokyo Olympic Update \\n\\n...</td>\n",
       "      <td>NaN</td>\n",
       "      <td>Twitter for Android</td>\n",
       "      <td>0.0</td>\n",
       "      <td>1.0</td>\n",
       "      <td>False</td>\n",
       "    </tr>\n",
       "    <tr>\n",
       "      <th>3</th>\n",
       "      <td>1418888172864299008</td>\n",
       "      <td>International Hockey Federation</td>\n",
       "      <td>Lausanne</td>\n",
       "      <td>Official International Hockey Federation Twitt...</td>\n",
       "      <td>2010-10-20 10:45:59</td>\n",
       "      <td>103975.0</td>\n",
       "      <td>2724.0</td>\n",
       "      <td>36554.0</td>\n",
       "      <td>True</td>\n",
       "      <td>2021-07-24 10:57:56</td>\n",
       "      <td>Q4: 🇬🇧3-1🇿🇦\\n\\nGreat Britain finally find a wa...</td>\n",
       "      <td>NaN</td>\n",
       "      <td>Twitter Web App</td>\n",
       "      <td>1.0</td>\n",
       "      <td>0.0</td>\n",
       "      <td>False</td>\n",
       "    </tr>\n",
       "    <tr>\n",
       "      <th>4</th>\n",
       "      <td>1418886894478270464</td>\n",
       "      <td>Cameron Hart</td>\n",
       "      <td>Australia</td>\n",
       "      <td>Football &amp; Tennis Coach</td>\n",
       "      <td>2020-10-31 08:46:17</td>\n",
       "      <td>6.0</td>\n",
       "      <td>37.0</td>\n",
       "      <td>31.0</td>\n",
       "      <td>False</td>\n",
       "      <td>2021-07-24 10:52:51</td>\n",
       "      <td>All I can think of every time I watch the ring...</td>\n",
       "      <td>['Tokyo2020', 'ArtisticGymnastics', '7Olympics...</td>\n",
       "      <td>Twitter for iPhone</td>\n",
       "      <td>0.0</td>\n",
       "      <td>0.0</td>\n",
       "      <td>False</td>\n",
       "    </tr>\n",
       "  </tbody>\n",
       "</table>\n",
       "</div>"
      ],
      "text/plain": [
       "                    id                        user_name   user_location  \\\n",
       "0  1418888645105356803               Abhishek Srivastav    Udupi, India   \n",
       "1  1418888377680678918         Saikhom Mirabai Channu🇮🇳  Manipur, India   \n",
       "2  1418888260886073345                     Big Breaking          Global   \n",
       "3  1418888172864299008  International Hockey Federation        Lausanne   \n",
       "4  1418886894478270464                     Cameron Hart       Australia   \n",
       "\n",
       "                                    user_description         user_created  \\\n",
       "0               Trying to be mediocre in many things  2021-02-01 06:33:51   \n",
       "1      Indian weightlifter 48 kg category. Champion🏆  2018-04-07 10:10:22   \n",
       "2  All breaking news related to Financial Market....  2021-05-29 08:51:25   \n",
       "3  Official International Hockey Federation Twitt...  2010-10-20 10:45:59   \n",
       "4                            Football & Tennis Coach  2020-10-31 08:46:17   \n",
       "\n",
       "  user_followers user_friends user_favourites user_verified  \\\n",
       "0           45.0         39.0           293.0         False   \n",
       "1         5235.0          5.0          2969.0         False   \n",
       "2         3646.0          3.0             5.0         False   \n",
       "3       103975.0       2724.0         36554.0          True   \n",
       "4            6.0         37.0            31.0         False   \n",
       "\n",
       "                  date                                               text  \\\n",
       "0  2021-07-24 10:59:49                    Let the party begin\\n#Tokyo2020   \n",
       "1  2021-07-24 10:58:45  Congratulations #Tokyo2020 https://t.co/8OFKMs...   \n",
       "2  2021-07-24 10:58:17  Big Breaking Now \\n\\nTokyo Olympic Update \\n\\n...   \n",
       "3  2021-07-24 10:57:56  Q4: 🇬🇧3-1🇿🇦\\n\\nGreat Britain finally find a wa...   \n",
       "4  2021-07-24 10:52:51  All I can think of every time I watch the ring...   \n",
       "\n",
       "                                            hashtags               source  \\\n",
       "0                                      ['Tokyo2020']  Twitter for Android   \n",
       "1                                      ['Tokyo2020']  Twitter for Android   \n",
       "2                                                NaN  Twitter for Android   \n",
       "3                                                NaN      Twitter Web App   \n",
       "4  ['Tokyo2020', 'ArtisticGymnastics', '7Olympics...   Twitter for iPhone   \n",
       "\n",
       "   retweets  favorites is_retweet  \n",
       "0       0.0        0.0      False  \n",
       "1       0.0        0.0      False  \n",
       "2       0.0        1.0      False  \n",
       "3       1.0        0.0      False  \n",
       "4       0.0        0.0      False  "
      ]
     },
     "execution_count": 25,
     "metadata": {},
     "output_type": "execute_result"
    }
   ],
   "source": [
    "df.head() # First 5 rows"
   ]
  },
  {
   "cell_type": "code",
   "execution_count": null,
   "id": "eef44714",
   "metadata": {},
   "outputs": [
    {
     "data": {
      "text/html": [
       "<div>\n",
       "<style scoped>\n",
       "    .dataframe tbody tr th:only-of-type {\n",
       "        vertical-align: middle;\n",
       "    }\n",
       "\n",
       "    .dataframe tbody tr th {\n",
       "        vertical-align: top;\n",
       "    }\n",
       "\n",
       "    .dataframe thead th {\n",
       "        text-align: right;\n",
       "    }\n",
       "</style>\n",
       "<table border=\"1\" class=\"dataframe\">\n",
       "  <thead>\n",
       "    <tr style=\"text-align: right;\">\n",
       "      <th></th>\n",
       "      <th>id</th>\n",
       "      <th>user_name</th>\n",
       "      <th>user_location</th>\n",
       "      <th>user_description</th>\n",
       "      <th>user_created</th>\n",
       "      <th>user_followers</th>\n",
       "      <th>user_friends</th>\n",
       "      <th>user_favourites</th>\n",
       "      <th>user_verified</th>\n",
       "      <th>date</th>\n",
       "      <th>text</th>\n",
       "      <th>hashtags</th>\n",
       "      <th>source</th>\n",
       "      <th>retweets</th>\n",
       "      <th>favorites</th>\n",
       "      <th>is_retweet</th>\n",
       "    </tr>\n",
       "  </thead>\n",
       "  <tbody>\n",
       "    <tr>\n",
       "      <th>297006</th>\n",
       "      <td>1419947001102405633</td>\n",
       "      <td>Belgian Cats</td>\n",
       "      <td>Brussels</td>\n",
       "      <td>The Belgian National Team - Women's basketball</td>\n",
       "      <td>2010-05-11 10:28:27</td>\n",
       "      <td>5296</td>\n",
       "      <td>161</td>\n",
       "      <td>973</td>\n",
       "      <td>False</td>\n",
       "      <td>2021-07-27 09:05:21</td>\n",
       "      <td>It's a close contest in our first Olympic game...</td>\n",
       "      <td>NaN</td>\n",
       "      <td>Twitter Web App</td>\n",
       "      <td>7.0</td>\n",
       "      <td>38.0</td>\n",
       "      <td>False</td>\n",
       "    </tr>\n",
       "    <tr>\n",
       "      <th>297007</th>\n",
       "      <td>1419946996895346689</td>\n",
       "      <td>IOC MEDIA</td>\n",
       "      <td>Lausanne. Switzerland</td>\n",
       "      <td>Keep updated with all the latest news from the...</td>\n",
       "      <td>2011-01-05 10:00:39</td>\n",
       "      <td>147657</td>\n",
       "      <td>712</td>\n",
       "      <td>624</td>\n",
       "      <td>True</td>\n",
       "      <td>2021-07-27 09:05:20</td>\n",
       "      <td>10 athletes from the IOC @RefugeesOlympic star...</td>\n",
       "      <td>['Tokyo2020']</td>\n",
       "      <td>Twitter Web App</td>\n",
       "      <td>7.0</td>\n",
       "      <td>11.0</td>\n",
       "      <td>False</td>\n",
       "    </tr>\n",
       "    <tr>\n",
       "      <th>297008</th>\n",
       "      <td>1419946993909047299</td>\n",
       "      <td>Devin Heroux</td>\n",
       "      <td>Toronto, Ontario</td>\n",
       "      <td>CBC News/Olympics Reporter. Based in Toronto. ...</td>\n",
       "      <td>2009-03-24 22:53:21</td>\n",
       "      <td>44209</td>\n",
       "      <td>2317</td>\n",
       "      <td>153144</td>\n",
       "      <td>True</td>\n",
       "      <td>2021-07-27 09:05:19</td>\n",
       "      <td>SNACK TIME! \\n\\nHow could I say no to “two sof...</td>\n",
       "      <td>NaN</td>\n",
       "      <td>Twitter for iPhone</td>\n",
       "      <td>78.0</td>\n",
       "      <td>355.0</td>\n",
       "      <td>False</td>\n",
       "    </tr>\n",
       "    <tr>\n",
       "      <th>297009</th>\n",
       "      <td>1419946992948576256</td>\n",
       "      <td>Ⓜ️𝐚𝐬𝐚 🍊 𝐌𝐫.𝐂𝐡𝐢𝐥𝐝𝐫𝐞𝐧 🌏</td>\n",
       "      <td>東京</td>\n",
       "      <td>🗼𝑇𝑜𝑘𝑦𝑜 𝐽𝐴𝑃𝐴𝑁 🇯🇵 ✂︎ 表参道 ⭐︎ 原宿 ✂︎ 𝐻𝑎𝑖𝑟 𝑠𝑡𝑦𝑙𝑖𝑠𝑡 ✂...</td>\n",
       "      <td>2015-12-31 02:13:03</td>\n",
       "      <td>149</td>\n",
       "      <td>245</td>\n",
       "      <td>12208</td>\n",
       "      <td>False</td>\n",
       "      <td>2021-07-27 09:05:19</td>\n",
       "      <td>.\\n.\\n.\\n🏄‍♂️ 𝐊𝐚𝐧𝐨𝐚 𝐈𝐠𝐚𝐫𝐚𝐬𝐡𝐢 🇯🇵\\n.\\n.\\n🥈𝐂𝐨𝐧𝐠𝐫𝐚...</td>\n",
       "      <td>['五十嵐カノア']</td>\n",
       "      <td>Twitter for iPhone</td>\n",
       "      <td>0.0</td>\n",
       "      <td>0.0</td>\n",
       "      <td>False</td>\n",
       "    </tr>\n",
       "    <tr>\n",
       "      <th>297010</th>\n",
       "      <td>1419946985214431232</td>\n",
       "      <td>Oigetit Breaking News</td>\n",
       "      <td>San Francisco, CA</td>\n",
       "      <td>Powered by AI fake news filtering technology, ...</td>\n",
       "      <td>2020-06-10 01:19:55</td>\n",
       "      <td>343</td>\n",
       "      <td>273</td>\n",
       "      <td>1360</td>\n",
       "      <td>False</td>\n",
       "      <td>2021-07-27 09:05:17</td>\n",
       "      <td>#Breaking - It brings Tokyo’s total to more th...</td>\n",
       "      <td>['Breaking']</td>\n",
       "      <td>Twitter Web App</td>\n",
       "      <td>0.0</td>\n",
       "      <td>0.0</td>\n",
       "      <td>False</td>\n",
       "    </tr>\n",
       "  </tbody>\n",
       "</table>\n",
       "</div>"
      ],
      "text/plain": [
       "                         id              user_name          user_location  \\\n",
       "297006  1419947001102405633           Belgian Cats               Brussels   \n",
       "297007  1419946996895346689              IOC MEDIA  Lausanne. Switzerland   \n",
       "297008  1419946993909047299           Devin Heroux       Toronto, Ontario   \n",
       "297009  1419946992948576256  Ⓜ️𝐚𝐬𝐚 🍊 𝐌𝐫.𝐂𝐡𝐢𝐥𝐝𝐫𝐞𝐧 🌏                     東京   \n",
       "297010  1419946985214431232  Oigetit Breaking News      San Francisco, CA   \n",
       "\n",
       "                                         user_description  \\\n",
       "297006     The Belgian National Team - Women's basketball   \n",
       "297007  Keep updated with all the latest news from the...   \n",
       "297008  CBC News/Olympics Reporter. Based in Toronto. ...   \n",
       "297009  🗼𝑇𝑜𝑘𝑦𝑜 𝐽𝐴𝑃𝐴𝑁 🇯🇵 ✂︎ 表参道 ⭐︎ 原宿 ✂︎ 𝐻𝑎𝑖𝑟 𝑠𝑡𝑦𝑙𝑖𝑠𝑡 ✂...   \n",
       "297010  Powered by AI fake news filtering technology, ...   \n",
       "\n",
       "               user_created user_followers user_friends user_favourites  \\\n",
       "297006  2010-05-11 10:28:27           5296          161             973   \n",
       "297007  2011-01-05 10:00:39         147657          712             624   \n",
       "297008  2009-03-24 22:53:21          44209         2317          153144   \n",
       "297009  2015-12-31 02:13:03            149          245           12208   \n",
       "297010  2020-06-10 01:19:55            343          273            1360   \n",
       "\n",
       "       user_verified                 date  \\\n",
       "297006         False  2021-07-27 09:05:21   \n",
       "297007          True  2021-07-27 09:05:20   \n",
       "297008          True  2021-07-27 09:05:19   \n",
       "297009         False  2021-07-27 09:05:19   \n",
       "297010         False  2021-07-27 09:05:17   \n",
       "\n",
       "                                                     text       hashtags  \\\n",
       "297006  It's a close contest in our first Olympic game...            NaN   \n",
       "297007  10 athletes from the IOC @RefugeesOlympic star...  ['Tokyo2020']   \n",
       "297008  SNACK TIME! \\n\\nHow could I say no to “two sof...            NaN   \n",
       "297009  .\\n.\\n.\\n🏄‍♂️ 𝐊𝐚𝐧𝐨𝐚 𝐈𝐠𝐚𝐫𝐚𝐬𝐡𝐢 🇯🇵\\n.\\n.\\n🥈𝐂𝐨𝐧𝐠𝐫𝐚...     ['五十嵐カノア']   \n",
       "297010  #Breaking - It brings Tokyo’s total to more th...   ['Breaking']   \n",
       "\n",
       "                    source  retweets  favorites is_retweet  \n",
       "297006     Twitter Web App       7.0       38.0      False  \n",
       "297007     Twitter Web App       7.0       11.0      False  \n",
       "297008  Twitter for iPhone      78.0      355.0      False  \n",
       "297009  Twitter for iPhone       0.0        0.0      False  \n",
       "297010     Twitter Web App       0.0        0.0      False  "
      ]
     },
     "execution_count": 26,
     "metadata": {},
     "output_type": "execute_result"
    }
   ],
   "source": [
    "df.tail() # Last 5 rows"
   ]
  },
  {
   "cell_type": "code",
   "execution_count": null,
   "id": "6eb83ab6",
   "metadata": {},
   "outputs": [
    {
     "name": "stdout",
     "output_type": "stream",
     "text": [
      "<class 'pandas.core.frame.DataFrame'>\n",
      "RangeIndex: 297011 entries, 0 to 297010\n",
      "Data columns (total 16 columns):\n",
      " #   Column            Non-Null Count   Dtype  \n",
      "---  ------            --------------   -----  \n",
      " 0   id                297011 non-null  object \n",
      " 1   user_name         165938 non-null  object \n",
      " 2   user_location     127915 non-null  object \n",
      " 3   user_description  157310 non-null  object \n",
      " 4   user_created      160532 non-null  object \n",
      " 5   user_followers    160532 non-null  object \n",
      " 6   user_friends      160531 non-null  object \n",
      " 7   user_favourites   160531 non-null  object \n",
      " 8   user_verified     160529 non-null  object \n",
      " 9   date              160531 non-null  object \n",
      " 10  text              160531 non-null  object \n",
      " 11  hashtags          123028 non-null  object \n",
      " 12  source            160530 non-null  object \n",
      " 13  retweets          160525 non-null  float64\n",
      " 14  favorites         160525 non-null  float64\n",
      " 15  is_retweet        160525 non-null  object \n",
      "dtypes: float64(2), object(14)\n",
      "memory usage: 36.3+ MB\n"
     ]
    }
   ],
   "source": [
    "df.info() # Summary (data_types,non-null count)"
   ]
  },
  {
   "cell_type": "code",
   "execution_count": null,
   "id": "21419e3c",
   "metadata": {},
   "outputs": [
    {
     "data": {
      "text/plain": [
       "(297011, 16)"
      ]
     },
     "execution_count": 30,
     "metadata": {},
     "output_type": "execute_result"
    }
   ],
   "source": [
    "df.shape # (rows,columns)"
   ]
  },
  {
   "cell_type": "code",
   "execution_count": null,
   "id": "30e72949",
   "metadata": {},
   "outputs": [
    {
     "data": {
      "text/plain": [
       "id                   object\n",
       "user_name            object\n",
       "user_location        object\n",
       "user_description     object\n",
       "user_created         object\n",
       "user_followers       object\n",
       "user_friends         object\n",
       "user_favourites      object\n",
       "user_verified        object\n",
       "date                 object\n",
       "text                 object\n",
       "hashtags             object\n",
       "source               object\n",
       "retweets            float64\n",
       "favorites           float64\n",
       "is_retweet           object\n",
       "dtype: object"
      ]
     },
     "execution_count": 32,
     "metadata": {},
     "output_type": "execute_result"
    }
   ],
   "source": [
    "df.dtypes # Datatypes of each column"
   ]
  },
  {
   "cell_type": "code",
   "execution_count": null,
   "id": "3cab84d7",
   "metadata": {},
   "outputs": [
    {
     "data": {
      "text/html": [
       "<div>\n",
       "<style scoped>\n",
       "    .dataframe tbody tr th:only-of-type {\n",
       "        vertical-align: middle;\n",
       "    }\n",
       "\n",
       "    .dataframe tbody tr th {\n",
       "        vertical-align: top;\n",
       "    }\n",
       "\n",
       "    .dataframe thead th {\n",
       "        text-align: right;\n",
       "    }\n",
       "</style>\n",
       "<table border=\"1\" class=\"dataframe\">\n",
       "  <thead>\n",
       "    <tr style=\"text-align: right;\">\n",
       "      <th></th>\n",
       "      <th>retweets</th>\n",
       "      <th>favorites</th>\n",
       "    </tr>\n",
       "  </thead>\n",
       "  <tbody>\n",
       "    <tr>\n",
       "      <th>count</th>\n",
       "      <td>160525.000000</td>\n",
       "      <td>160525.000000</td>\n",
       "    </tr>\n",
       "    <tr>\n",
       "      <th>mean</th>\n",
       "      <td>2.518629</td>\n",
       "      <td>14.132372</td>\n",
       "    </tr>\n",
       "    <tr>\n",
       "      <th>std</th>\n",
       "      <td>43.109598</td>\n",
       "      <td>149.978699</td>\n",
       "    </tr>\n",
       "    <tr>\n",
       "      <th>min</th>\n",
       "      <td>0.000000</td>\n",
       "      <td>0.000000</td>\n",
       "    </tr>\n",
       "    <tr>\n",
       "      <th>25%</th>\n",
       "      <td>0.000000</td>\n",
       "      <td>0.000000</td>\n",
       "    </tr>\n",
       "    <tr>\n",
       "      <th>50%</th>\n",
       "      <td>0.000000</td>\n",
       "      <td>1.000000</td>\n",
       "    </tr>\n",
       "    <tr>\n",
       "      <th>75%</th>\n",
       "      <td>0.000000</td>\n",
       "      <td>3.000000</td>\n",
       "    </tr>\n",
       "    <tr>\n",
       "      <th>max</th>\n",
       "      <td>6429.000000</td>\n",
       "      <td>14382.000000</td>\n",
       "    </tr>\n",
       "  </tbody>\n",
       "</table>\n",
       "</div>"
      ],
      "text/plain": [
       "            retweets      favorites\n",
       "count  160525.000000  160525.000000\n",
       "mean        2.518629      14.132372\n",
       "std        43.109598     149.978699\n",
       "min         0.000000       0.000000\n",
       "25%         0.000000       0.000000\n",
       "50%         0.000000       1.000000\n",
       "75%         0.000000       3.000000\n",
       "max      6429.000000   14382.000000"
      ]
     },
     "execution_count": 33,
     "metadata": {},
     "output_type": "execute_result"
    }
   ],
   "source": [
    "df.describe() # Summary Statistics (mean,max,min,std,etc)"
   ]
  },
  {
   "cell_type": "code",
   "execution_count": null,
   "id": "17087cf8",
   "metadata": {},
   "outputs": [
    {
     "data": {
      "text/plain": [
       "Index(['id', 'user_name', 'user_location', 'user_description', 'user_created',\n",
       "       'user_followers', 'user_friends', 'user_favourites', 'user_verified',\n",
       "       'date', 'text', 'hashtags', 'source', 'retweets', 'favorites',\n",
       "       'is_retweet'],\n",
       "      dtype='object')"
      ]
     },
     "execution_count": 34,
     "metadata": {},
     "output_type": "execute_result"
    }
   ],
   "source": [
    "df.columns # List of column Names"
   ]
  },
  {
   "cell_type": "code",
   "execution_count": null,
   "id": "27d14af5",
   "metadata": {},
   "outputs": [
    {
     "data": {
      "text/plain": [
       "RangeIndex(start=0, stop=297011, step=1)"
      ]
     },
     "execution_count": 35,
     "metadata": {},
     "output_type": "execute_result"
    }
   ],
   "source": [
    "df.index # Row Index"
   ]
  },
  {
   "cell_type": "code",
   "execution_count": null,
   "id": "f7019f9f",
   "metadata": {},
   "outputs": [],
   "source": [
    "df.to_csv(\"Saved Output File\",index=False) # Saving the output file"
   ]
  },
  {
   "cell_type": "code",
   "execution_count": null,
   "id": "a25178bf",
   "metadata": {},
   "outputs": [
    {
     "data": {
      "text/html": [
       "<div>\n",
       "<style scoped>\n",
       "    .dataframe tbody tr th:only-of-type {\n",
       "        vertical-align: middle;\n",
       "    }\n",
       "\n",
       "    .dataframe tbody tr th {\n",
       "        vertical-align: top;\n",
       "    }\n",
       "\n",
       "    .dataframe thead th {\n",
       "        text-align: right;\n",
       "    }\n",
       "</style>\n",
       "<table border=\"1\" class=\"dataframe\">\n",
       "  <thead>\n",
       "    <tr style=\"text-align: right;\">\n",
       "      <th></th>\n",
       "      <th>retweets</th>\n",
       "      <th>favorites</th>\n",
       "    </tr>\n",
       "  </thead>\n",
       "  <tbody>\n",
       "    <tr>\n",
       "      <th>count</th>\n",
       "      <td>160525.000000</td>\n",
       "      <td>160525.000000</td>\n",
       "    </tr>\n",
       "    <tr>\n",
       "      <th>mean</th>\n",
       "      <td>2.518629</td>\n",
       "      <td>14.132372</td>\n",
       "    </tr>\n",
       "    <tr>\n",
       "      <th>std</th>\n",
       "      <td>43.109598</td>\n",
       "      <td>149.978699</td>\n",
       "    </tr>\n",
       "    <tr>\n",
       "      <th>min</th>\n",
       "      <td>0.000000</td>\n",
       "      <td>0.000000</td>\n",
       "    </tr>\n",
       "    <tr>\n",
       "      <th>25%</th>\n",
       "      <td>0.000000</td>\n",
       "      <td>0.000000</td>\n",
       "    </tr>\n",
       "    <tr>\n",
       "      <th>50%</th>\n",
       "      <td>0.000000</td>\n",
       "      <td>1.000000</td>\n",
       "    </tr>\n",
       "    <tr>\n",
       "      <th>75%</th>\n",
       "      <td>0.000000</td>\n",
       "      <td>3.000000</td>\n",
       "    </tr>\n",
       "    <tr>\n",
       "      <th>max</th>\n",
       "      <td>6429.000000</td>\n",
       "      <td>14382.000000</td>\n",
       "    </tr>\n",
       "  </tbody>\n",
       "</table>\n",
       "</div>"
      ],
      "text/plain": [
       "            retweets      favorites\n",
       "count  160525.000000  160525.000000\n",
       "mean        2.518629      14.132372\n",
       "std        43.109598     149.978699\n",
       "min         0.000000       0.000000\n",
       "25%         0.000000       0.000000\n",
       "50%         0.000000       1.000000\n",
       "75%         0.000000       3.000000\n",
       "max      6429.000000   14382.000000"
      ]
     },
     "execution_count": 42,
     "metadata": {},
     "output_type": "execute_result"
    }
   ],
   "source": [
    "df.describe() # Summary Statistics (mean,std,min,max,etc)"
   ]
  },
  {
   "cell_type": "code",
   "execution_count": null,
   "id": "039c4420",
   "metadata": {},
   "outputs": [
    {
     "data": {
      "text/plain": [
       "np.float64(2.51862949696309)"
      ]
     },
     "execution_count": 50,
     "metadata": {},
     "output_type": "execute_result"
    }
   ],
   "source": [
    "df['retweets'].mean() # Average marks"
   ]
  },
  {
   "cell_type": "code",
   "execution_count": null,
   "id": "8693376a",
   "metadata": {},
   "outputs": [
    {
     "data": {
      "text/plain": [
       "np.float64(1.0)"
      ]
     },
     "execution_count": 49,
     "metadata": {},
     "output_type": "execute_result"
    }
   ],
   "source": [
    "df['favorites'].median() # Median"
   ]
  },
  {
   "cell_type": "code",
   "execution_count": null,
   "id": "1fdbf69b",
   "metadata": {},
   "outputs": [
    {
     "data": {
      "text/plain": [
       "np.float64(6429.0)"
      ]
     },
     "execution_count": 48,
     "metadata": {},
     "output_type": "execute_result"
    }
   ],
   "source": [
    "df['retweets'].max() # Maximum Value"
   ]
  },
  {
   "cell_type": "code",
   "execution_count": null,
   "id": "13ae37c3",
   "metadata": {},
   "outputs": [
    {
     "data": {
      "text/plain": [
       "np.float64(0.0)"
      ]
     },
     "execution_count": 51,
     "metadata": {},
     "output_type": "execute_result"
    }
   ],
   "source": [
    "df['retweets'].min() # Minimum Value"
   ]
  },
  {
   "cell_type": "code",
   "execution_count": null,
   "id": "d034363d",
   "metadata": {},
   "outputs": [
    {
     "data": {
      "text/plain": [
       "np.float64(404303.0)"
      ]
     },
     "execution_count": 52,
     "metadata": {},
     "output_type": "execute_result"
    }
   ],
   "source": [
    "df['retweets'].sum() # Sum of Column"
   ]
  },
  {
   "cell_type": "code",
   "execution_count": null,
   "id": "2e55a8ae",
   "metadata": {},
   "outputs": [
    {
     "data": {
      "text/plain": [
       "retweets\n",
       "0.0       122922\n",
       "1.0        16416\n",
       "2.0         6121\n",
       "3.0         3574\n",
       "4.0         2041\n",
       "           ...  \n",
       "207.0          1\n",
       "246.0          1\n",
       "1149.0         1\n",
       "1089.0         1\n",
       "1534.0         1\n",
       "Name: count, Length: 380, dtype: int64"
      ]
     },
     "execution_count": 53,
     "metadata": {},
     "output_type": "execute_result"
    }
   ],
   "source": [
    "df['retweets'].value_counts() # Frequency count"
   ]
  }
 ],
 "metadata": {
  "kernelspec": {
   "display_name": "Python 3",
   "language": "python",
   "name": "python3"
  },
  "language_info": {
   "codemirror_mode": {
    "name": "ipython",
    "version": 3
   },
   "file_extension": ".py",
   "mimetype": "text/x-python",
   "name": "python",
   "nbconvert_exporter": "python",
   "pygments_lexer": "ipython3",
   "version": "3.12.6"
  }
 },
 "nbformat": 4,
 "nbformat_minor": 5
}
